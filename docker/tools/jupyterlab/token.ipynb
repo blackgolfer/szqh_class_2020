{
 "cells": [
  {
   "cell_type": "code",
   "execution_count": 7,
   "metadata": {},
   "outputs": [],
   "source": [
    "# %load scripts/generate_token\n",
    "import IPython as IPython\n",
    "\n",
    "def token(password=\"szqh\"):\n",
    "    return IPython.lib.passwd(password)"
   ]
  },
  {
   "cell_type": "code",
   "execution_count": 8,
   "metadata": {},
   "outputs": [
    {
     "name": "stdout",
     "output_type": "stream",
     "text": [
      "sha1:4ef2a9e6233d:15ea1aac8c2090b882d5cbac19b8a17fe1d858b6\n"
     ]
    }
   ],
   "source": [
    "print(token())"
   ]
  },
  {
   "cell_type": "code",
   "execution_count": 9,
   "metadata": {},
   "outputs": [
    {
     "name": "stdout",
     "output_type": "stream",
     "text": [
      "sha1:7dd0a3094f64:7cae61e9df80c71ad82211e7b02cc272b323e391\n"
     ]
    }
   ],
   "source": [
    "print(token(\"shenzhen\"))"
   ]
  },
  {
   "cell_type": "code",
   "execution_count": null,
   "metadata": {},
   "outputs": [],
   "source": []
  }
 ],
 "metadata": {
  "kernelspec": {
   "display_name": "Python 3",
   "language": "python",
   "name": "python3"
  },
  "language_info": {
   "codemirror_mode": {
    "name": "ipython",
    "version": 3
   },
   "file_extension": ".py",
   "mimetype": "text/x-python",
   "name": "python",
   "nbconvert_exporter": "python",
   "pygments_lexer": "ipython3",
   "version": "3.7.4"
  }
 },
 "nbformat": 4,
 "nbformat_minor": 4
}
